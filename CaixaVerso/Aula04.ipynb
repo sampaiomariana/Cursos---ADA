{
 "cells": [
  {
   "cell_type": "markdown",
   "id": "3fdd192d",
   "metadata": {},
   "source": [
    "### Adicionando códigos para serem utilizados no projeto\n"
   ]
  },
  {
   "cell_type": "code",
   "execution_count": 2,
   "id": "9559524f",
   "metadata": {},
   "outputs": [
    {
     "ename": "ModuleNotFoundError",
     "evalue": "No module named 'kagglehub'",
     "output_type": "error",
     "traceback": [
      "\u001b[1;31m---------------------------------------------------------------------------\u001b[0m",
      "\u001b[1;31mModuleNotFoundError\u001b[0m                       Traceback (most recent call last)",
      "Cell \u001b[1;32mIn[2], line 3\u001b[0m\n\u001b[0;32m      1\u001b[0m \u001b[38;5;28;01mimport\u001b[39;00m \u001b[38;5;21;01mpandas\u001b[39;00m \u001b[38;5;28;01mas\u001b[39;00m \u001b[38;5;21;01mpd\u001b[39;00m \n\u001b[0;32m      2\u001b[0m \u001b[38;5;28;01mimport\u001b[39;00m \u001b[38;5;21;01mnumpy\u001b[39;00m \u001b[38;5;28;01mas\u001b[39;00m \u001b[38;5;21;01mnp\u001b[39;00m\n\u001b[1;32m----> 3\u001b[0m \u001b[38;5;28;01mimport\u001b[39;00m \u001b[38;5;21;01mkagglehub\u001b[39;00m\n\u001b[0;32m      4\u001b[0m \u001b[38;5;28;01mimport\u001b[39;00m \u001b[38;5;21;01mos\u001b[39;00m\n\u001b[0;32m      5\u001b[0m \u001b[38;5;28;01mimport\u001b[39;00m \u001b[38;5;21;01mcsv\u001b[39;00m\n",
      "\u001b[1;31mModuleNotFoundError\u001b[0m: No module named 'kagglehub'"
     ]
    }
   ],
   "source": [
    "import pandas as pd \n",
    "import numpy as np\n",
    "import kagglehub\n",
    "import os\n",
    "import csv\n"
   ]
  },
  {
   "cell_type": "code",
   "execution_count": null,
   "id": "b27137ca",
   "metadata": {},
   "outputs": [],
   "source": [
    "# 1️⃣ Baixar a última versão do dataset Olist\n",
    "path_olist = kagglehub.dataset_download(\"olistbr/brazilian-ecommerce\")\n",
    "print(\"Pasta do dataset:\", path_olist)\n",
    "# 2️⃣ Caminho completo do arquivo desejado\n",
    "arquivo = os.path.join(path_olist, \"olist_order_reviews_dataset.csv\")\n",
    "# 3️⃣ Abrir e ler com csv.DictReader\n",
    "with open(arquivo, newline='', encoding='utf-8') as f:\n",
    "    reader = csv.DictReader(f)\n",
    "    dados = list(reader)\n",
    "    #Adicionando o total de linhas do arquivo\n",
    "    print(f\"Total de linhas: {len(dados)}\")\n",
    "    # pegar as 5 primeiras linhas\n",
    "    for linha in dados[:5]:\n",
    "      print(linha)"
   ]
  }
 ],
 "metadata": {
  "kernelspec": {
   "display_name": "Python 3",
   "language": "python",
   "name": "python3"
  },
  "language_info": {
   "codemirror_mode": {
    "name": "ipython",
    "version": 3
   },
   "file_extension": ".py",
   "mimetype": "text/x-python",
   "name": "python",
   "nbconvert_exporter": "python",
   "pygments_lexer": "ipython3",
   "version": "3.12.3"
  }
 },
 "nbformat": 4,
 "nbformat_minor": 5
}
